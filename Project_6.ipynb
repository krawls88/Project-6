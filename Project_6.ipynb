{
 "cells": [
  {
   "cell_type": "code",
   "execution_count": 1,
   "metadata": {
    "collapsed": false
   },
   "outputs": [],
   "source": [
    "#!pip install imdbpie"
   ]
  },
  {
   "cell_type": "code",
   "execution_count": 2,
   "metadata": {
    "collapsed": true
   },
   "outputs": [],
   "source": [
    "import os\n",
    "import subprocess\n",
    "import pandas as pd\n",
    "import numpy as np\n",
    "from sklearn.ensemble import RandomForestClassifier\n",
    "from sklearn.ensemble import RandomForestRegressor\n",
    "import requests\n",
    "from imdbpie import Imdb\n",
    "import nltk\n",
    "import matplotlib.pyplot as plt\n",
    "import urllib\n",
    "from bs4 import BeautifulSoup\n",
    "import nltk\n",
    "import collections\n",
    "import re\n",
    "import csv\n",
    "import psycopg2\n",
    "\n",
    "import scrapy\n",
    "from scrapy.selector import Selector\n",
    "from scrapy.http import HtmlResponse\n",
    "\n",
    "%matplotlib inline"
   ]
  },
  {
   "cell_type": "code",
   "execution_count": 3,
   "metadata": {
    "collapsed": false
   },
   "outputs": [],
   "source": [
    "imdb = Imdb(anonymize=True)"
   ]
  },
  {
   "cell_type": "code",
   "execution_count": 4,
   "metadata": {
    "collapsed": false
   },
   "outputs": [],
   "source": [
    "top = imdb.top_250()\n",
    "df = pd.DataFrame(top)"
   ]
  },
  {
   "cell_type": "code",
   "execution_count": 5,
   "metadata": {
    "collapsed": false
   },
   "outputs": [
    {
     "data": {
      "text/html": [
       "<div>\n",
       "<table border=\"1\" class=\"dataframe\">\n",
       "  <thead>\n",
       "    <tr style=\"text-align: right;\">\n",
       "      <th></th>\n",
       "      <th>can_rate</th>\n",
       "      <th>image</th>\n",
       "      <th>num_votes</th>\n",
       "      <th>rating</th>\n",
       "      <th>tconst</th>\n",
       "      <th>title</th>\n",
       "      <th>type</th>\n",
       "      <th>year</th>\n",
       "    </tr>\n",
       "  </thead>\n",
       "  <tbody>\n",
       "    <tr>\n",
       "      <th>0</th>\n",
       "      <td>True</td>\n",
       "      <td>{u'url': u'https://images-na.ssl-images-amazon...</td>\n",
       "      <td>1715518</td>\n",
       "      <td>9.3</td>\n",
       "      <td>tt0111161</td>\n",
       "      <td>The Shawshank Redemption</td>\n",
       "      <td>feature</td>\n",
       "      <td>1994</td>\n",
       "    </tr>\n",
       "    <tr>\n",
       "      <th>1</th>\n",
       "      <td>True</td>\n",
       "      <td>{u'url': u'https://images-na.ssl-images-amazon...</td>\n",
       "      <td>1172561</td>\n",
       "      <td>9.2</td>\n",
       "      <td>tt0068646</td>\n",
       "      <td>The Godfather</td>\n",
       "      <td>feature</td>\n",
       "      <td>1972</td>\n",
       "    </tr>\n",
       "    <tr>\n",
       "      <th>2</th>\n",
       "      <td>True</td>\n",
       "      <td>{u'url': u'https://images-na.ssl-images-amazon...</td>\n",
       "      <td>803421</td>\n",
       "      <td>9.0</td>\n",
       "      <td>tt0071562</td>\n",
       "      <td>The Godfather: Part II</td>\n",
       "      <td>feature</td>\n",
       "      <td>1974</td>\n",
       "    </tr>\n",
       "    <tr>\n",
       "      <th>3</th>\n",
       "      <td>True</td>\n",
       "      <td>{u'url': u'https://images-na.ssl-images-amazon...</td>\n",
       "      <td>1701921</td>\n",
       "      <td>9.0</td>\n",
       "      <td>tt0468569</td>\n",
       "      <td>The Dark Knight</td>\n",
       "      <td>feature</td>\n",
       "      <td>2008</td>\n",
       "    </tr>\n",
       "    <tr>\n",
       "      <th>4</th>\n",
       "      <td>True</td>\n",
       "      <td>{u'url': u'https://images-na.ssl-images-amazon...</td>\n",
       "      <td>456533</td>\n",
       "      <td>8.9</td>\n",
       "      <td>tt0050083</td>\n",
       "      <td>12 Angry Men</td>\n",
       "      <td>feature</td>\n",
       "      <td>1957</td>\n",
       "    </tr>\n",
       "  </tbody>\n",
       "</table>\n",
       "</div>"
      ],
      "text/plain": [
       "  can_rate                                              image  num_votes  \\\n",
       "0     True  {u'url': u'https://images-na.ssl-images-amazon...    1715518   \n",
       "1     True  {u'url': u'https://images-na.ssl-images-amazon...    1172561   \n",
       "2     True  {u'url': u'https://images-na.ssl-images-amazon...     803421   \n",
       "3     True  {u'url': u'https://images-na.ssl-images-amazon...    1701921   \n",
       "4     True  {u'url': u'https://images-na.ssl-images-amazon...     456533   \n",
       "\n",
       "   rating     tconst                     title     type  year  \n",
       "0     9.3  tt0111161  The Shawshank Redemption  feature  1994  \n",
       "1     9.2  tt0068646             The Godfather  feature  1972  \n",
       "2     9.0  tt0071562    The Godfather: Part II  feature  1974  \n",
       "3     9.0  tt0468569           The Dark Knight  feature  2008  \n",
       "4     8.9  tt0050083              12 Angry Men  feature  1957  "
      ]
     },
     "execution_count": 5,
     "metadata": {},
     "output_type": "execute_result"
    }
   ],
   "source": [
    "df.head()"
   ]
  },
  {
   "cell_type": "code",
   "execution_count": 6,
   "metadata": {
    "collapsed": false
   },
   "outputs": [
    {
     "data": {
      "text/plain": [
       "8.1    70\n",
       "8.3    45\n",
       "8.2    44\n",
       "8.4    24\n",
       "8.5    24\n",
       "8.6    15\n",
       "8.7     7\n",
       "8.0     7\n",
       "8.8     5\n",
       "8.9     5\n",
       "9.0     2\n",
       "9.2     1\n",
       "9.3     1\n",
       "Name: rating, dtype: int64"
      ]
     },
     "execution_count": 6,
     "metadata": {},
     "output_type": "execute_result"
    }
   ],
   "source": [
    "df['rating'].value_counts()"
   ]
  },
  {
   "cell_type": "code",
   "execution_count": 7,
   "metadata": {
    "collapsed": false
   },
   "outputs": [
    {
     "name": "stdout",
     "output_type": "stream",
     "text": [
      "<class 'pandas.core.frame.DataFrame'>\n",
      "RangeIndex: 250 entries, 0 to 249\n",
      "Data columns (total 8 columns):\n",
      "can_rate     250 non-null bool\n",
      "image        250 non-null object\n",
      "num_votes    250 non-null int64\n",
      "rating       250 non-null float64\n",
      "tconst       250 non-null object\n",
      "title        250 non-null object\n",
      "type         250 non-null object\n",
      "year         250 non-null object\n",
      "dtypes: bool(1), float64(1), int64(1), object(5)\n",
      "memory usage: 14.0+ KB\n"
     ]
    }
   ],
   "source": [
    "df.info()"
   ]
  },
  {
   "cell_type": "code",
   "execution_count": 8,
   "metadata": {
    "collapsed": false
   },
   "outputs": [
    {
     "data": {
      "text/plain": [
       "feature    250\n",
       "Name: type, dtype: int64"
      ]
     },
     "execution_count": 8,
     "metadata": {},
     "output_type": "execute_result"
    }
   ],
   "source": [
    "df['type'].value_counts()"
   ]
  },
  {
   "cell_type": "markdown",
   "metadata": {},
   "source": [
    "I got the movie id from here: http://www.imdb.com/title/tt0468569/"
   ]
  },
  {
   "cell_type": "code",
   "execution_count": 9,
   "metadata": {
    "collapsed": true
   },
   "outputs": [],
   "source": [
    "#FOUND SOURCE CODE FOR IMDBPIE https://github.com/richardasaurus/imdb-pie/blob/master/src/imdbpie/imdbpie.py\n",
    "#FROM HERE I EMULATED THE TOP_250() FUNCTION TO SCRAPE THE BOTTOM 100 USING THE SITE http://www.imdb.com/chart/bottom \n",
    "#PROVIDED IN THE README FILE.  \n",
    "\n",
    "#  def top_250(self):\n",
    "#         url = self._build_url('/chart/top', {})\n",
    "#         response = self._get(url)\n",
    "#         return response['data']['list']['list']"
   ]
  },
  {
   "cell_type": "code",
   "execution_count": 10,
   "metadata": {
    "collapsed": true
   },
   "outputs": [],
   "source": [
    "class Imdb(Imdb):\n",
    "    def bottom(self):\n",
    "        url = self._build_url('/chart/bottom', {})\n",
    "        response = self._get(url)\n",
    "        return response['data']['list']['list']"
   ]
  },
  {
   "cell_type": "code",
   "execution_count": 11,
   "metadata": {
    "collapsed": true
   },
   "outputs": [],
   "source": [
    "imdb_bottom = Imdb(anonymize=True)"
   ]
  },
  {
   "cell_type": "code",
   "execution_count": 12,
   "metadata": {
    "collapsed": false
   },
   "outputs": [],
   "source": [
    "bottom = imdb_bottom.bottom()\n",
    "df1 = pd.DataFrame(bottom)"
   ]
  },
  {
   "cell_type": "code",
   "execution_count": 13,
   "metadata": {
    "collapsed": false
   },
   "outputs": [
    {
     "name": "stdout",
     "output_type": "stream",
     "text": [
      "<class 'pandas.core.frame.DataFrame'>\n",
      "RangeIndex: 100 entries, 0 to 99\n",
      "Data columns (total 8 columns):\n",
      "can_rate     100 non-null bool\n",
      "image        100 non-null object\n",
      "num_votes    100 non-null int64\n",
      "rating       100 non-null float64\n",
      "tconst       100 non-null object\n",
      "title        100 non-null object\n",
      "type         100 non-null object\n",
      "year         100 non-null object\n",
      "dtypes: bool(1), float64(1), int64(1), object(5)\n",
      "memory usage: 5.6+ KB\n"
     ]
    }
   ],
   "source": [
    "df1.info()"
   ]
  },
  {
   "cell_type": "code",
   "execution_count": 14,
   "metadata": {
    "collapsed": true
   },
   "outputs": [],
   "source": [
    "Movies = df.append(df1, ignore_index=True)"
   ]
  },
  {
   "cell_type": "code",
   "execution_count": 15,
   "metadata": {
    "collapsed": false
   },
   "outputs": [
    {
     "name": "stdout",
     "output_type": "stream",
     "text": [
      "<class 'pandas.core.frame.DataFrame'>\n",
      "RangeIndex: 350 entries, 0 to 349\n",
      "Data columns (total 8 columns):\n",
      "can_rate     350 non-null bool\n",
      "image        350 non-null object\n",
      "num_votes    350 non-null int64\n",
      "rating       350 non-null float64\n",
      "tconst       350 non-null object\n",
      "title        350 non-null object\n",
      "type         350 non-null object\n",
      "year         350 non-null object\n",
      "dtypes: bool(1), float64(1), int64(1), object(5)\n",
      "memory usage: 19.6+ KB\n"
     ]
    }
   ],
   "source": [
    "Movies.info()"
   ]
  },
  {
   "cell_type": "code",
   "execution_count": 16,
   "metadata": {
    "collapsed": true
   },
   "outputs": [],
   "source": [
    "reviews=imdb.get_title_reviews(\"tt0468569\", max_results=15)"
   ]
  },
  {
   "cell_type": "code",
   "execution_count": 17,
   "metadata": {
    "collapsed": false
   },
   "outputs": [
    {
     "name": "stdout",
     "output_type": "stream",
     "text": [
      "-------------------------\n",
      "We've been subjected to enormous amounts of hype and marketing for the Dark Knight. We've seen Joker scavenger hunts and one of the largest viral campaigns in advertising history and it culminates with the actual release of the movie.\n",
      "\n",
      "Everything that's been said is pretty much spot on. This is the first time I can remember where a summer blockbuster film far surpasses the hype.\n",
      "\n",
      "For as much action as there is in this movie, it's the acting that makes it a great piece of work. Between all the punches, explosions and stunt-work is some great dialog work. All the actors have their moments.\n",
      "\n",
      "Bale's Batman is the definitive Batman because we see everything in this character finally on film. Martial arts skills, cunning, great tactical thinking, forensic application, technological genius to advance or improve Luscious Fox's inventions/technological breakthroughs, intimidating personality, and even a little swashbuckling. \n",
      "\n",
      "As for Heath, yes he gets credit for his performance as the Joker. But you have to also recognize Jonathan and Chris Nolan for the writing and treatment of the character. It's not just the fact that Ledger makes the Joker so menacing, but the Nolans have given the character this great manifesto that drives its actions. The Joker's stance on chaos, order, anarchy, the morality of the average modern human being make the character so interesting psychologically. The Nolans drafted a complex character and only a perfect performance could've pulled something like this off. That's how difficult of a role this was, and that's why Ledger's performance is so great.\n",
      "\n",
      "This isn't an action movie. It's a film that explores literary themes of the hero and villain, as well as order and anarchy. Yes, listen to the dialog because it's all in there.\n",
      "\n",
      "my rating is 10\n",
      "--------------------------\n",
      "-------------------------\n",
      "Christopher Nolan's second bundle of joy \"The Dark Knight\" EXCEEDED all \r",
      " of my expectations!!! With the success of 2005's reboot of the Batman \r",
      " franchise, they took what was already established and expanded it, \r",
      " amped it up, and gave a deeper, darker and brooding story that is more \r",
      " gripping and the suspense is likely to catch you of guard several times \r",
      " throughout. Christian Bale delves more deeper into Batman, sworn to \r",
      " fight evil and injustice, though also quite reluctant and uncertain if \r",
      " his crusade can ever end and cleanse his inner turmoil from his \r",
      " fractured soul due to the murder of his beloved parents. But with the \r",
      " help of his trusted butler/ally Alfred (played superbly by Michael \r",
      " Cane) grounds him, gives him moral support, and keeps him in check. But \r",
      " the real star of the show is Heath Ledger as Batman's most deadly \r",
      " enemy, The Joker. I can HONESTLY tell you that: as good as Jack \r",
      " Nicholson was in Batman'89 he is CHILD'S PLAY compared to this Joker. \r",
      " He is sadistic, psychotic, and downright SCARIER and PSYCHOLOGICALLY \r",
      " disturbing than the previous incarnation of The Clown Prince of Crime \r",
      " and Ledger gives it his all to do him justice. Along with the original \r",
      " cast comes some fresh faces such as Aaron Eckhart, Maggie Gyllenhaal \r",
      " and more. I must say though I liked Katie Holmes, Gyllenhaal gives a \r",
      " much better performance and is a far cry from the \"damsel-in-distress\" \r",
      " stereotype (though there's a little of it, THANKFULLY) that's common in \r",
      " films. Bale and Gyllenhall have MUCH better chemistry this time around \r",
      " more so than Holmes. Even better, the fight sequences are vastly \r",
      " improved and feature more brutal and bone crushing combat than \"Begins\" \r",
      " in addition to new technology at Batman's disposal.\r",
      " \r\n",
      "Also worth mentioning is screenwriter Jonathan Nolan, who gives the \r",
      " film an added frosting to an already delicious cake.\r",
      " \r\n",
      "Simply put, The Dark Knight is totally more bad ass than \"Begins.\" The \r",
      " action is great, and the plot is more deeper and engrossing. I applaud \r",
      " Christopher Nolan, Christian Bale, and especially Heath Ledger (who \r",
      " sadly passed away earlier this year) and all those aboard for believing \r",
      " in Mr. Nolan's talents for this second installment. Although some may \r",
      " feel a bit of melancholy over Ledger's death, but as a final note I \r",
      " will say this sincerely from my heart: Remember Heath Ledger and honor \r",
      " him in your minds and hearts not only for his performances, but as a \r",
      " human being and father to his daughter Matilda \r",
      " Ledger. May we issue him best wishes for his family and friends and his \r",
      " daughter for years to come. Remember . . . Honor him not only for this \r",
      " role and past roles, but as an incredible individual and talented \r",
      " actor.\r",
      " \r\n",
      "Rest in peace. Heath Ledger: 4/4/1979-1/22/2008.\n",
      "\n",
      "my rating is 10\n",
      "--------------------------\n",
      "-------------------------\n",
      "I had the honor of watching TDK during a screening and was completely blown away! This isn't just the best Batman movie ever made, this is one of the best movie ever made. Everything in this film is excellent, not one piece of annoyance.\n",
      "\n",
      "Bale marvels as Bruce Wayne/Batman, Ledger has made The Joker in to an iconic movie villain. His performance belongs there at the top with Hopkins Lecter. The Joker has finally been portrait properly on film, he has earned his place between the big boys in movie villandom. This is the true Joker every Batman fan knows, loves and fears. Ledger deserves any and every movie award known to man for this brilliant display.\n",
      "\n",
      "Nolan has made his \"I will always be remembered\" movie, this is the crownjewel in his portfolio. Perfect directing, perfect story, perfect balance between action and drama, everything is perfect. \n",
      "\n",
      "Even if you hate Batman, you will love this film. If you don't, then something beez wrongz with youz!\n",
      "\n",
      "my rating is 10\n",
      "--------------------------\n",
      "-------------------------\n",
      "I used to leave a theatre after seeing a highly anticipated movie, specifically a sequel, and be so revved up about what I saw that I would declare that movie to be the best of a series. After each of the prequel \"Star Wars\" films, I rated that one the best, as good as any of the originals...for a time, until my opinion balanced out and I had a more well-rounded take. For that reason, I steer away from that mindset, and did for \"Dark Knight\".\n",
      "\n",
      "Though my opinion is solidifying already after having seen a Warner Bros. screening last night, \"Dark Knight\" ably stands on its own with or without \"Batman Begins\". At a two and a half hour runtime, it's definitely an epic of a movie, but one that never runs out of gas. A delightful addition to this experience was a healthy amount of IMAX footage, which significantly adds to the feel of being on a personal, and gruesome, tour of Gotham City.\n",
      "\n",
      "Christian Bale plays such a well rounded Batman and Bruce Wayne, qualities that none of those who have donned the cowl before him have pulled off. I still have to remember that Bale is British since he speaks with such a spot on American accent. Bale has a particular slurring lisp that serves him quite well, charmingly for Bruce Wayne and threateningly for Batman.\n",
      "\n",
      "Countering him is the late Heath Ledger, who plays such a scary and creepy Joker that I found it impossible to NOT have chills half the time I saw him on screen. What really separates this brand of Joker from Jack Nicholson's portrayal is true unpredictability. It's obvious that, to be a good guy and think like the Joker, it really takes a toll, and it sure isn't easy. How exactly does one take him down when he's woven his harebrained plot around multiple hostages, explosives, or disappearing parlor tricks?\n",
      "\n",
      "Initially, I was uneasy about how the character of Harvey Dent would be handled. In my mind, there was really only one faithful portrayal of him, and that could be found in the \"Batman\" animated series of the early 90s. As well as Tommy Lee Jones COULD have handled him in \"Batman Forever\", he certainly did not, though it still was a highlight of that movie. Aaron Eckhart ably assumes the mantle here, delivering a performance out of this world, easily on par with the Batman animated series.\n",
      "\n",
      "Be it known, this caped avenger stands for the good of Gotham City that the police force and its counterparts can't represent, the good that has no jurisdiction, no procedures...and no rules, save for one. I can only hope that we've seen just the prelude to the Dark Knight's upcoming legendary battles with the worst of Gotham City's dark underside.\n",
      "\n",
      "\"The Dark Knight\" gets a solid 10 of 10 stars.\n",
      "\n",
      "my rating is 10\n",
      "--------------------------\n",
      "-------------------------\n",
      "I must say I was excited for this movie since the instant BATMAN BEGINS appeared on screen at the end of the first film. It was always going to be good, and sadly, it was always going to be over-hyped by the advertising warhorses.\n",
      "\n",
      "It is rare though, that a movie can surpass all the hype and pass all expectations on the film. Nolan (The Prestige, Begins) delivers on more than the Joker we remember from the 'Old Days' of Burton and Nicholson. Instead we're given a psychopathic sadist who pleasures from sheer anarchy.\n",
      "\n",
      "All the hailing of Ledger's performance are grounded. Watching it will make you feel a different chill down your spine than you'd remember from any other film. It's impossible, quite literally to relate to The Joker. He gets inside your head with his stories of how he got his scars, makes you laugh at his sick jokes, then makes you instantly wonder why you're laughing.\n",
      "\n",
      "If Ledger wasn't enough to horrify you - wait for Harvey Dent. Brilliantly portrayed by Aaron Eckhart as Gotham's 'fallen White Knight' and Batman's direct counterpart. His transformation will put Tommy Lee Jones' portrayal look like children's breakfast cartoons. Gyllenhaal had perfect chemistry with both Bale and Eckhart, Michael Caine and Morgan Freeman both work well as Batman's 'conscience' and of course, Gary Oldman as Lieutenant Gordon were all solid.\n",
      "\n",
      "There are some major differences between The Dark Knight and Begins. Firstly, the music is extremely disconcerted compared with the 'majestic but unfinished' tones of Begins - but it suits the film's tone: Anarchy in every sense. There was a more solid singular villain (compared with the many in Begins) - but there was also a lot more henchmen in TDK. The martial art direction was faster and more efficient - as mentioned in the film, learning through experience.\n",
      "\n",
      "I was disappointed at the role of Scarecrow in this film, it just felt like a loose thread and wasn't quite closed up or explained, and the ending, while it wasn't what I expected (others have said that it was predictable, but for me it wasn't) was solid and suited the film well.\n",
      "\n",
      "All in all, this is a film that is quite close, if it isn't already, a masterpiece. Nolan has a great thing going and unlike previous 'Superhero' adaptations (Spiderman and Fantastic Four for example), there isn't campiness creeping in. In face, if Batman Begins was 10/10, The Dark Knight deserves a 12. Quite simply, the best possible sequel that could've been given.\n",
      "\n",
      "If you watch this (which I implore that you do), you certainly won't regret it. One of the best movies of 2008 (I'll wait till Quantum of Solace comes out before I pass judgement) - but certainly a film worth getting excited for. If you don't like it, then that's also fine - but keep in mind that you probably thought Meet The Spartans was a good movie, so the rest of us won't take it to heart.\n",
      "\n",
      "Stunning in every aspect, and exceeds all hype and expectation... Can't wait to watch it again, or for the Blu-Ray!\n",
      "\n",
      "my rating is 10\n",
      "--------------------------\n",
      "-------------------------\n",
      "I thought Batman Begins was a very well conceived and put together \r",
      " movie. We finally get Batman as a fully rendered character. We gain new \r",
      " insight into his motivations and the variables he must contend with in \r",
      " his role as protector of Gotham. We get to see Gary Oldman as an \r",
      " honest-to-goodness good guy. And we get to see Liam Neeson conducting \r",
      " perhaps his strangest facial hair experiment yet.\r",
      " \r\n",
      "But after seeing The Dark Knight, Batman Begins will forevermore be \r",
      " viewed (by me at least) as a handy little prologue to a FRICKIN' \r",
      " MASTERPIECE of a superhero film.\r",
      " \r\n",
      "To say it's the deepest mainstream comic adaptation ever produced would \r",
      " be akin to calling the Nolan/Ledger Joker 'a bit eccentric'.\r",
      " \r\n",
      "While watching it, I found myself thinking it was very long, which is \r",
      " usually a sign that it's TOO long, and therefore boring. But that's not \r",
      " actually the case here. The script is bulging with ideas, philosophical \r",
      " musings, THEMES, which Christopher Nolan is not content to gloss over \r",
      " in favour of cool set-pieces (as many comic adaptations are), but wants \r",
      " to explore, wants to allow the characters to explore, at a logical \r",
      " pace. So, what I guess I'm saying is, considering what it sets out to \r",
      " do, the movie is long ENOUGH, while still constantly holding the \r",
      " viewer's interest.\r",
      " \r\n",
      "And that's not to say the thematic exploration comes at the EXPENSE of \r",
      " big action, either. On the contrary, there is some truly awesome stuff \r",
      " going on here. The chase with the truck, for example, is fantastic, and \r",
      " there's some great hand-to-hand stuff too.\r",
      " \r\n",
      "But what engages us most is the characters, and, while the script is \r",
      " brilliant (the dialogue is sharp, and quite funny for the first \r",
      " two-thirds, before the drama really kicks in), this mainly comes down \r",
      " to the cast.\r",
      " \r\n",
      "Christian Bale. Taller than Michael Keaton was. More menacing than Val \r",
      " Kilmer was. Less like Adam West than George Clooney was. Solid and \r",
      " committed as always. He gives the character LIFE, and actually makes us \r",
      " feel for him. The word 'tortured' keeps coming to mind...and I suppose \r",
      " it's pretty appropriate.\r",
      " \r\n",
      "Heath Ledger. Y'know, I'd heard talk of an Oscar nomination, and \r",
      " thought it sounded a bit dubious. A Batman villain? Winning an Oscar? \r",
      " Is that what it's come to? Then I thought, is it because he didn't get \r",
      " one for Brokeback? Or more dubious still...is it because he...died? \r",
      " But...well...how can I put it...? \r",
      " \r\n",
      "It seems a bit blasphemous to compare Jack Nicholson to Cesar Romero, \r",
      " but after seeing Heath at work...Jack (who once seemed so awesome) just \r",
      " looks...well...lame.\r",
      " \r\n",
      "If you've seen it, you hopefully get what I mean. If you haven't...you \r",
      " need to. You will discover the true definition of commitment.\r",
      " \r\n",
      "Maggie Gyllenhaal. I didn't have any problem with Katie in the first \r",
      " one (at the time), but I doubt she could have pulled off the more \r",
      " emotional stuff Rachel goes through here. Seeing recasting was \r",
      " necessary (does Tom have a problem with his wife being involved with \r",
      " Batman? Too many bad memories perhaps? Why am I even talking about such \r",
      " garbage here?) they could have done a butt-load worse than Maggie. She \r",
      " rocks.\r",
      " \r\n",
      "As does Aaron Eckhart. But I'm not giving ANYTHING away. Suffice it to \r",
      " say my mind was blown...AGAIN. Makes Tommy Lee Jones look like...you \r",
      " get the idea.\r",
      " \r\n",
      "Michael Caine. Still one of my favourite actors. Alfred is the shiz.\r",
      " \r\n",
      "Morgan Freeman. Morgan Freeman. AOK.\r",
      " \r\n",
      "Gary Oldman. As in BB, no mania. No psychosis. No nervous tics. \r",
      " Absolute subtlety. Manages to hold his own alongside Christian, Heath \r",
      " and Aaron without resorting to parlour tricks. Sign of spectacular \r",
      " talent. Go Gaz.\r",
      " \r\n",
      "Eric Roberts! William Fichtner! Michael Jai White! Tiny Lister!\r",
      " \r\n",
      "The whole thing is just a big bag of thoughtful, well-executed \r",
      " entertainment. It's equal parts cerebral and visceral. Ideas and \r",
      " action.\r",
      " \r\n",
      "I've liked every Batman movie so far (okay, besides Batman & Robin), \r",
      " but this one makes them all look pretty bloody ordinary.\n",
      "\n",
      "my rating is 10\n",
      "--------------------------\n",
      "-------------------------\n",
      "Batman has always been my favourite superhero ever since the first time I heard about him because he his human with no powers, also he is much more questionable than any other superhero. The story of the film is about Batman, Lieutenant James Gordon, and new district attorney Harvey Dent beginning to succeed in rounding up the criminals that plague Gotham City. They are unexpectedly challenged when a mysterious criminal mastermind known as the Joker appears in Gotham. Batman's struggle against the Joker becomes deeply personal, forcing him to \"confront everything he believes\" and to improve his technology (which introduces the recreation of the Batcycle, known as the Batpod and the Batsuit was redesigned) to stop the madman's campaign of destruction. During the course of the film, a love triangle develops between Bruce Wayne, Dent and Rachel Dawes.\n",
      "\n",
      "There are now six Batman films and I must say that The Dark Knight is the best out of all of them. The title is good because that is what Batman actually is. It has been 3 years for the adventure to continue from Batman Begins but that entire wait was worth it. Gotham city is very Gothic looking and is very haunting and visionary. The whole movie is charged with pulse-pounding suspense, ingenious special effects and riveting performances from a first-rate cast especially from Heath Ledger who gave an Oscar nomination performance for best supporting-actor. It is a shame that he can't see his terrific work on-screen. The cinematography is excellent which is made so dark & sinister that really did suit the mood for the film. Usually sequels don't turn out to be better than the original but The Dark Knight is one of those rare sequels that surpasses the original like The Godfather 2. I also really liked the poster where the building is on fire in a Bat symbol & Batman is standing in front of it. Christopher Nolan is a brilliant director and his film Memento is one of my most favourite films. He hasn't made 10 movies yet and 3 of them are already on the IMDb top 250. Overall The Dark Knight is the kind of movie that will make the audience cheer in the end instead of throwing fruit & vegetables on the screen.\n",
      "\n",
      "my rating is 10\n",
      "--------------------------\n",
      "-------------------------\n",
      "(Synopsis) Bruce Wayne/Batman (Christian Bale) continues to eliminate crime in Gotham City with the help of Lt. Jim Gordon (Gary Oldman) and the new District Attorney, Harvey Dent (Aaron Eckhart). The Dark Knight wants to finally get rid of organized crime for good and be free of their corruption. Batman soon finds that a new psychopathic mastermind known as the Joker (Heath Ledger) has taken over organized crime. The Joker's plan is to terrify the citizens and throw the city into chaos, and kill Batman. Batman takes the fight with the Joker personal, which makes him confront his own beliefs. The Joker is the most dangerous criminal that Batman has encountered, and he will need all his strength and vigilance to defeat him.\n",
      "\n",
      "(My Comment) This film just blew me away. Christian Bale is a natural as Bruce Wayne/Batman, and Michael Caine fits the part of Alfred, the trusted butler. Heath Ledger's performance as the sadistic Joker was absolutely disturbing and scary yet simply amazing. I would not want to meet the Joker in a dark alley, and whatever you do, don't ask him how he got his smile, especially, when he has a knife in his hand. Ledger's performance has turned the Joker into a new iconic movie villain image. Between all the punches, mayhem, and explosions, there is some good sinister dialog. The movie not only has a lot of action, it also tells the story of the internal struggle that Bruce Wayne is having with being the Batman hero. Bruce Wayne wants to be himself and maintain the difference between himself and Batman. Bruce must decide to follow the code or do what has to be done without affecting his own morals. The movie explores the literary themes of Hero verses Villain, as well as Order verses Anarchy, and the Joker explains to Batman that to have one you must have the other, and because of that, they will always be connected. The movie is long, but it went by so fast. You will love the last 45 minutes, because of the non-stop action with Batman in his new sonic suit and his BatPod. With all the explosions, body count, and the dark mood of the movie, I don't think parents should take young children. (Warner Bros. Pictures, Run Time 2:32, Rated PG-13)(10/10)\n",
      "\n",
      "my rating is 10\n",
      "--------------------------\n",
      "-------------------------\n",
      "I got to see The Dark Knight on Wednesday night, the reason though why I'm writing this movie comment this late is because I didn't wanna just jump and say this movie was awesome, I wanted to think it through, still today, I can't stop thinking about this movie! The Dark Knight lives up to it's hype and goes beyond it, this is the Batman movie that goes where no other Batman movie has gone before. It gave us a real sold story, we are finally told why the villains are the way they are, how all the injustice in the world can get underneath Batman's skin, how you have to believe that people still have faith in good on Earth. Heath Ledger, I absolutely loved Jack Nicolson's performance in the 1989 film, when I first read that Heath was signed onto The Dark Knight, I was like \"What are they, kidding?\", once you see The Dark Knight... Heath was incredible! I'm not going to compare Jack and Heath's performance, because they were two different versions of the Joker, but Heath's Joker was definitely the more scary and intense of the two nominations. You didn't know what he was going to do next, he was so crazy, he was also so charismatic to the point where you could relate to his character, and the worst part is not only that he's crazy, he's driving Gotham crazy and treating everyone like little puppets on strings that he can control, and guess what, he is doing it so well with a smile on his face. \n",
      "\n",
      "This was so much more than a Batman film, this was so much more than a comic book film, The Dark Knight truly delivers with drama, action, romance, horror, dark humor, the study of a psychopathic killer, a detective story. The force behind this epic movie is Christopher Nolan, who's previous film, Batman Begins, didn't really thrill me, but his incredible film making is truly shown in The Dark Knight, the shots that he got of Gotham City were absolutely fantastic and made you feel part of the city, part of the Batman story. One of the things that I absolutely loved about The Dark Knight is that normally with a comic book movie, you know it's not real, people don't dress up in costumes, and save the day, villains don't name themselves crazy names and dress in make up or crazy costumes, but The Dark Knight actually makes it seem incredibly real, like it could happen.\n",
      "\n",
      "Bruce Wayne is still learning how to be in his double life of Batman and himself, he has lost Rachel to the new district attorney, Harvey Dent, he's inspiring others who are dressing up as Batman and are trying to take on the villains of the city themselves. But things are much worse when the Joker waltzes into town, and he's going to bring Hell upon Gotham City. Constantly playing with Gotham's mind and trying to get Batman to reveal himself, Batman has never dealt with such a psychopathic genius before. The Joker has named himself as the \"Classy Villain that Gotham needs\", he also has brought a new thought into Batman's head of them actually being more alike than different, that Batman completes him, the Joker would be nothing without him. But Batman is relying on Harvey Dent, who is Gotham's \"White Knight\" trying to put all of Gotham's scum in jail. But when the Joker plays Batman and Commissioner Gordon, Harvey and Rachel find themselves in very horrific position and Harvey must discover if he will die a hero or live long enough to become a villain.\n",
      "\n",
      "All the performances are dead on in this movie, now everyone's going crazy over Heath Ledger's performance, but one performance I would also love to credit is Aaron Eckhart who plays Harvey Dent/Two Face, his performance was just as great as Heath's and made Two Face a human villain. You could understand his hatred and vengeance on what happened to him and why he became Two Face. I know that everyone is saying this but I truly mean when I say this is one of the best movies I have seen in a very long time. We had some great movies these past few years, but I think The Dark Knight is seriously something special, but I don't wanna build it up too much since some people go to the theater expecting my words to be the same as your own. In my opinion though this is not a great movie, I can't come up with a word describe how incredibly powerful this movie was, to be honest I would go above a 10 rating if I could; this is the Batman film that we have been waiting for. I've seen it twice in one weekend, I'm going to see it three times this upcoming week, I don't mind one bit. I can't wait for the sequel and I would just like to say RIP to Heath, wish he could have seen his breath taking performance as The Joker.\n",
      "\n",
      "10/10\n",
      "\n",
      "my rating is 10\n",
      "--------------------------\n",
      "-------------------------\n",
      "I think the big question...or the question everyone actually cares about is this: Is Christopher Nolan's follow up to the critically acclaimed 2005 film \"Batman Begins,\" The Dark Knight, as good as everyone is saying? Quite simply, yes, yes it is. There is no doubt about it, one of the most anticipated movies of the 21st century duly deserves every amount of praise lavished onto it. This is no ordinary superhero movie, this is a character and dialogue driven piece, not as action orientated as you might expect.\n",
      "\n",
      "I will not go into plot details, because there is a lot of it. However, a basic one sentence summary is: Batman now has to face his most cunning and psychotic enemy, someone with no real motives...The Joker. Now that that is out of the way, I will start off with the actors (and boy, is there a lot to talk about). Christian Bale has done a tremendous job as our beloved Caped Crusader, with him already blowing everyone else out of water with \"Batman Begins.\" Bruce Wayne has a flawed personality that hangs on the balance between righteousness and criminal. His perception of justice causes an emotional and personal shift, whether he is a wealthy businessman who fights crime in a gadget-riddled suit or just a normal man who is sick of all the scum in Gotham City and decides to give the law-breakers a dose of their own medicine. Because of this, and Bale's tremendous acting, Bruce Wayne is justified, and we emphasise with Bale's flawed hero more than any of the other actors. If there ever was an excellent Batman, this is it. The theme of right and wrong is played well with his character here.\n",
      "\n",
      "Of course, I am sure you all want know if Heath Ledger was that good. And I can safely say that he most definitely was. Ledger's Joker is not only the best, but is now the greatest superhero film villain ever. His performance is truly terrifying, chilling, brilliant; any synonyms of the previous adjectives. Every scene he is in is stolen. The Joker truly is Batman's worst villain; cunning and psychotic, nothing quite matches his laugh and sinister makeup. If Ledger nabs the Oscar for Best Actor, I honestly will not be surprised. It is a true tragedy to see such a talented actor fall at such a young age...\n",
      "\n",
      "All the other actors cannot be forgotten, though. Aaron Eckhart has definitely proved himself previously (\"Thankyou for Smoking\") as someone to watch out for. Here, as Harvey Dent (and later Two Face) he is very powerful. All he wants is justice; to bring down every single criminal. Eckhart is the definitive Two Face. Maggie Gyllenhaal as Wayne and Dent's love interest, Rachel Dawes is much better than Katie Holmes. Gyllenhaal's performance has substance, I really cared for her and her future and she was terrific in every scene. Michael Caine can do no wrong, and as Alfred Pennyworth he provides some comical and emotional scenes. Morgan Freeman as Lucius Fox, although a limited role, does inject some sly humour and much needed morals into the story. Finally, Gary Oldman's Lt. James Gordon is riveting. He at least needs a Best Supporting Actor nomination for his performance as another crime-fighting hero who faces some challenging situations.\n",
      "\n",
      "Wally Pfister's cinematography is simply stunning. Gotham has never looked so good, so big and deep. His wide shots purvey a dirty aura and contribute to the feel of the film. Without it, it may not have been the same. Another Oscar worthy portion, THE MUSIC! With Hans Zimmer AND James Newton Howard at the helm, how could it go wrong? The score sets the mood in every scene, giving an epic and thrilling tone. During the action sequences it really ups the adrenaline. And on the topic of action, The Dark Knight succeeds in having the best fight sequences and car chases in a comic book adaptation yet. With no obvious or over-use of CGI, the explosions and accidents are the real deal. Thrilling, edge of your seat and violent, this is brutally awesome stuff.\n",
      "\n",
      "Nevertheless, none of this would be possible without Christopher Nolan, the man behind it all. Pairing up with the writer (and brother) Jonathon Nolan, the darkest Batman movie yet is the best, and the best so far this year. This does not feel like a comic book film, the dialogue and situations feel so realistic. And, it IS the script that drives this film. The dialogue is very, very well written and is the centre of the conflict and the movie.\n",
      "\n",
      "It may be bold to say this, but this is the best superhero film of all time. There are others that are magnificent (\"Superman\" and \"X-Men\" are two examples) but this is the most complex, the most dark and the most spectacular and epic of them all. See it for Bale, for Ledger, for the music, the action and for Nolan's flawless direction.\n",
      "\n",
      "5/5 and the best film of 2008 so far!!\n",
      "\n",
      "my rating is 10\n",
      "--------------------------\n",
      "-------------------------\n",
      "I have just come out of the \"Dark Curtain\" Screening for The Dark Knight in Adelaide, and I'm blown away.\n",
      "\n",
      "Nolan's directing is sublime, the pacing of the movie was so well kept, managing to keep the audience enthralled in an almost 3 hour movie. There were several shots in the film that had me saying \"Now how in the hell did they do that?!\", Brilliant scores by James Newton Howard and Hans Zimmer. Every actor shines, no one person steals the film. I don't want to say much about it, because whatever is said cannot do it justice, there is enough hype surrounding it's release, but it's there for a reason. Top Notch film. Bravo to Nolan and his crew for giving a movie that Batman truly deserves.\n",
      "\n",
      "9/10.\n",
      "\n",
      "my rating is 8\n",
      "--------------------------\n",
      "-------------------------\n",
      "I couldn't believe \"The Dark knight\" could live up to the hype. That's perhaps the biggest surprise. The secret, I believe, is a stunning, mature, intelligent script. That makes it the best superhero movie ever made. As if that wasn't enough, Heath Ledger. He, the newest of the tragic modern icons present us with a preview of something we'll never see. A fearless, extraordinary actor capable to fill up with humanity even the most grotesque of villains. His performance is a master class. Fortunately, Christian Bale's Batman is almost a supporting character. Bale is good but there is something around his mouth that stops him from being great. \"The Dark Knight\" is visually stunning, powerful and moving. What else could anyone want.\n",
      "\n",
      "my rating is 10\n",
      "--------------------------\n",
      "-------------------------\n",
      "Dark, yes, complex, ambitious. Christopher Nolan and his co-writer Jonathan Nolan deserve a standing ovation. I don't usually go for loud movies filled with mindless gore and violence. \"The Dark Knight\" is certainly loud and violent but it's not mindless. It has depth and soul. Even the Joker, in an extraordinary creation by Heath Ledger, is deeply human. The natural petulance of Christian Bale makes his ego and alter ego the most fascinating and complex of all film superheroes. Part of the genius of this movie is that Batman himself, in screen time, is not really the lead. My attention was captivated by Heath Ledger and he determines and inspires the breathtaking atmosphere that envelopes Gotham as well as us. The aplomb of Christopher Nolan as a director is mind blowing and his secret, I believe, is his obvious respect for his audience. What he's done is to elevate a popular genre into Shakesperean proportions. Bravo!\n",
      "\n",
      "my rating is 9\n",
      "--------------------------\n",
      "-------------------------\n",
      "** PLOT SPOILERS EVERYWHERE ** \n",
      "\n",
      "Christopher Nolan's \"The Dark Knight\" is one of the better films in the history of its genre, however, it does not qualify as a masterpiece. In fact, it's quite far from such a distinction. It falls short of unquestionable excellence because of a ridiculously high number of plot holes, most of which regard The Joker and his criminal exploits.\n",
      "\n",
      "It is a given that Heath Ledger's portrayal of The Joker leaves us with a character who is thoughtful, unpredictable, ruthless, unrelenting, and arguably insane. That is to say, some inconsistencies in the villain should be accepted, if not embraced. But others, to be frank, are unacceptable because of their stupidity. For example: In the film's opening sequence, a clever bank heist spearheaded by The Joker, the crazed clown kills off his partners as the caper progresses. At the time, it made sense. Pretty simple, the more colleagues he kills off, the more money that leaves for him. But later on in the film, The Joker burns his half of the criminal underworld's combined fortune. He makes it overtly clear that he is not motivated by money. Not in the least bit.\n",
      "\n",
      "So why was the money a factor in the opening scene? It shouldn't have been. Uneven scripting there.\n",
      "\n",
      "But that's nitpicking in comparison to the film's greater faults. The ultimate reason why \"The Dark Knight\" falls short of the masterpiece label is because there is absolutely no way, under any circumstances, at any time, on any planet or in any solar system, that The Joker could execute so many complex plans in such a short period of time.\n",
      "\n",
      "OK, here is where people start saying: \"But it's a movie! It doesn't have to be possible.\" I know, thanks. I agree, it doesn't have to be possible. But, and this is a huge BUT, a film as ambitious and lengthy as \"The Dark Knight\" wants to be taken seriously. Not only does it want to be taken seriously, I think director Christopher Nolan wants Oscar consideration for the work he has put in here, and cast members have been saying regularly that they don't want this to be considered as a mere \"superhero movie,\" or \"action movie.\" Well if you want to elevate to the level of serious drama, then you have to explain a few things to me.\n",
      "\n",
      "(1) How does The Joker continue to find willing participants in his escapades when all of his previous crew members end up dead or in jail? The guys he's finding to work for him have to be true idiots. Totally brainless. And that doesn't work because The Joker's plans are meticulous and require precise timing and execution. If these goons are dumb enough to work for him, they aren't smart enough to be effective as help. It's a perpetual contradiction throughout the film, particularly the second act.\n",
      "\n",
      "(2) Sure The Joker is swift and tricky, but c'mon, he doesn't exactly look like a normal citizen. If city-wide security has been heightened to a level never before seen, how the hell is this maniac with a painted face and wacky hair not being spotted? Does he have an invisible transportation machine or something? He doesn't have supernatural powers, so he shouldn't have a supernatural aura.\n",
      "\n",
      "(3) When did he have the time to wire the hospital with bombs? Even if one of his goons did it, how did no one in the hospital notice suspicious activity? What about the assassination attempt on the Mayor? The other cops on the firing line didn't notice the most infamous villain in the city standing right next to them? Why? Because he crouched over a little and tried not to make eye contact with them? Please. I could go on for days, too many plot liberties were taken.\n",
      "\n",
      "I'd actually like to discuss the performances a bit. I think the separation between the strongest part and the rest of the cast is the largest ever with an ensemble of this size and magnitude. Meaning, Heath Ledger's performance was far and away the best in this film, better to the point where it bothered me that no one else was in his realm. The scenes where Ledger was off screen lacked the magnetism and intrigue of the ones in which he appeared. Although appeared is probably not the best word, more like dominated. \n",
      "\n",
      "Christian Bale was OK as Batman, but he's almost too stoic for a character with such strong morals and opinions. He's also a little bit stiff when he's in playboy mode as Bruce Wayne. I think his performance in \"The Prestige\" was more emotional, effective, and polished.\n",
      "\n",
      "Aaron Eckhart was all right as Harvey Dent/Two-Face, but the problem was that the vast majority of the time I was seeing Eckhart on screen, not Dent. The same Eckhart we saw in \"Thank You For Smoking.\" Also, a man with a finely tuned social philosophy, like Dent, would not totally flip his ideology after the loss of a close loved one. Hopefully the angle is that the toxin causing the disfigurement messed more with his brain than we were led on to believe.\n",
      "\n",
      "Michael Caine and Morgan Freeman were believable as always, but of course they are underused as Alfred and Lucius Fox. Gary Oldman probably contributed the second strongest performance in the film as Commissioner Gordon, and Maggie Gyllenhaal (as Rachel Dawes) was a step up from Katie Holmes as far as execution and timing -- but that's not saying much. \n",
      "\n",
      "I really could go on for days about the unacceptable plot liberties, but I'll spare you. All in all, I liked the film because it had some thought-provoking sequences involving moral dilemmas and intriguing societal questions, and in having such \"The Dark Knight\" succeeded in escaping the \"superhero movie\" label. But it's not a masterpiece.\n",
      "\n",
      "Plain and simply, it has too many holes.\n",
      "\n",
      "my rating is 8\n",
      "--------------------------\n",
      "-------------------------\n",
      "I saw the dark knight about three years ago when I was in the 8th grade. And I was blown away at how beautifully done it was, the camera work, the acting, the story, it all took me by surprise. It is to this day one of the best movies I have ever seen or will see. No other movie can impact you in such an intense way than The Dark Knight. It is a movie worth seeing due to the fact that the workers put so much time and effort into this one film and they did not want to waste money putting up garbage. So Christopher Nolan, thank you for not wasting our time, instead earning our time with this film. To this day I still am anxious to see the movie at home. I recommend it to anyone who likes action movies in general. To anyone who doesn't, don't waste your time write bad reviews about this film.\n",
      "\n",
      "my rating is 10\n",
      "--------------------------\n"
     ]
    }
   ],
   "source": [
    "for rev in reviews:\n",
    "    print '-------------------------'\n",
    "    print rev.text\n",
    "    print '\\nmy rating is', rev.rating\n",
    "    print '--------------------------'"
   ]
  },
  {
   "cell_type": "code",
   "execution_count": 18,
   "metadata": {
    "collapsed": true
   },
   "outputs": [],
   "source": [
    "#CALLING IN NLTK STEMMER TO CREATE A FUNCTION WHICH COMBINES A STEMMER WITH A TOKENIZER IN ORDER TO USE WITH THE \n",
    "#TFIDFVECTORIZER "
   ]
  },
  {
   "cell_type": "code",
   "execution_count": 19,
   "metadata": {
    "collapsed": true
   },
   "outputs": [],
   "source": [
    "from nltk.stem.porter import PorterStemmer\n",
    "stemmer = PorterStemmer()\n",
    "\n",
    "def stem_tokens(tokens, stemmer):\n",
    "    stemmed = []\n",
    "    for item in tokens:\n",
    "        stemmed.append(stemmer.stem(item))\n",
    "    return stemmed\n",
    "\n",
    "def tokenize(text):\n",
    "    tokens = nltk.word_tokenize(text)\n",
    "    stems = stem_tokens(tokens, stemmer)\n",
    "    return stems"
   ]
  },
  {
   "cell_type": "code",
   "execution_count": null,
   "metadata": {
    "collapsed": true
   },
   "outputs": [],
   "source": [
    "#BEGINNING TO USE IMDB RATINGS ALONG WITH REVIEWS TO CREATE NEW DATAFRAMES, WHERE \n",
    "#REVIEWS ARE STRINGS OF 15 REVIEWS.  "
   ]
  },
  {
   "cell_type": "code",
   "execution_count": null,
   "metadata": {
    "collapsed": false
   },
   "outputs": [],
   "source": [
    "#ADDED THE TRY AND EXCEPT STATEMENTS TO GATHER DATA FROM IMDB WEBSITE \n",
    "\n",
    "review_list = []\n",
    "review_rating_as_int = []\n",
    "\n",
    "#THE MOVIE_DICT IS GOING TO BE USED ON MY SIDE PROJECT.  PRINTING OUT THE MOST COMMON WORDS FOR EACH MOVIE TITLE\n",
    "#movie_dict = {}\n",
    "\n",
    "for i in range(len(Movies['tconst'])):\n",
    "    for rev in reviews:\n",
    "        try:\n",
    "            reviews=imdb.get_title_reviews(i, max_results=15)   \n",
    "        \n",
    "            review_list.append(rev.text)  \n",
    "            \n",
    "            review_rating_as_int.append(rev.rating)\n",
    "            #movie_dict[Movie['title'][i] = rev.text]\n",
    "            print rev.rating\n",
    "        except:\n",
    "            pass\n"
   ]
  },
  {
   "cell_type": "code",
   "execution_count": null,
   "metadata": {
    "collapsed": true
   },
   "outputs": [],
   "source": []
  },
  {
   "cell_type": "code",
   "execution_count": null,
   "metadata": {
    "collapsed": true
   },
   "outputs": [],
   "source": [
    "#SIDE PROJECT. PRODUCING SIMPLE WORD COUNT FOR OUT MOVIES.  I WANT TO SEE THE MOST POPULAR \n",
    "#WORDS USED, PER TITLE, FROM THE REVIEWS. "
   ]
  },
  {
   "cell_type": "code",
   "execution_count": null,
   "metadata": {
    "collapsed": false
   },
   "outputs": [],
   "source": [
    "from sklearn.feature_extraction.text import CountVectorizer\n",
    "cvec = CountVectorizer(strip_accents='ascii', stop_words='english')"
   ]
  },
  {
   "cell_type": "code",
   "execution_count": null,
   "metadata": {
    "collapsed": false
   },
   "outputs": [],
   "source": [
    "cvec.fit(review_list)"
   ]
  },
  {
   "cell_type": "code",
   "execution_count": null,
   "metadata": {
    "collapsed": false
   },
   "outputs": [],
   "source": [
    "common_words = []\n",
    "for i in range(len(review_list)):\n",
    "    X_temp = pd.DataFrame(cvec.transform(rev_list).todense(),\n",
    "                          columns=cvec.get_feature_names())\n",
    "    word_counts = X_temp.sum(axis=0)\n",
    "    \n",
    "    \n",
    "    print Movies['title'][i], \"most common words\"\n",
    "    cw = word_counts.sort_values(ascending= False).head(10)\n",
    "    print cw\n",
    "    common_words.extend(cw.index)"
   ]
  },
  {
   "cell_type": "code",
   "execution_count": null,
   "metadata": {
    "collapsed": true
   },
   "outputs": [],
   "source": [
    "#END OF WORD CLOUD SIDEPROJECT"
   ]
  },
  {
   "cell_type": "code",
   "execution_count": null,
   "metadata": {
    "collapsed": true
   },
   "outputs": [],
   "source": []
  },
  {
   "cell_type": "code",
   "execution_count": null,
   "metadata": {
    "collapsed": true
   },
   "outputs": [],
   "source": [
    "#CREATING A NEW DATAFRAME OF THE READ IN DATA.  REVIEW IS THE HEADER FOR MY COLUMNS WHICH\n",
    "#CONTAINS 15 REVIEWS PER MOVIE \n",
    "\n",
    "#RATING IS THE COLUMN WHICH CONTAINS EACH RATING FOR EACH REVIEW FED IN "
   ]
  },
  {
   "cell_type": "code",
   "execution_count": null,
   "metadata": {
    "collapsed": false
   },
   "outputs": [],
   "source": [
    "pie = pd.DataFrame({'review': review_list, 'rating': review_rating_as_int})"
   ]
  },
  {
   "cell_type": "code",
   "execution_count": null,
   "metadata": {
    "collapsed": true
   },
   "outputs": [],
   "source": [
    "#DROPPPING ALL NA'S AND NAN VALUES FROM OUR DATASET.  SOME REVIEWS SIMPLY DID NOT COME WITH\n",
    "#A RATING.  BUT WE KNOW, FROM THE SECTION THEY WERE PULLED IF THEY WERE GOOD OR BAD "
   ]
  },
  {
   "cell_type": "code",
   "execution_count": null,
   "metadata": {
    "collapsed": false
   },
   "outputs": [],
   "source": [
    "pie = pie.dropna()"
   ]
  },
  {
   "cell_type": "code",
   "execution_count": null,
   "metadata": {
    "collapsed": true
   },
   "outputs": [],
   "source": [
    "#USING A CUTOFF HERE TO CREATE A TARGET COLUMN.  ALL RATINGS 8 AND HIGHER ARE CONSIDERED \n",
    "#GOOD, WHILE THE THE REST I AM CONSIDERING BAD"
   ]
  },
  {
   "cell_type": "code",
   "execution_count": null,
   "metadata": {
    "collapsed": true
   },
   "outputs": [],
   "source": [
    "from sklearn import preprocessing \n",
    "\n",
    "y = pie['rating']\n",
    "y = LabelEncoder.fit()"
   ]
  },
  {
   "cell_type": "code",
   "execution_count": null,
   "metadata": {
    "collapsed": true
   },
   "outputs": [],
   "source": [
    "X = pie['review']"
   ]
  },
  {
   "cell_type": "code",
   "execution_count": null,
   "metadata": {
    "collapsed": false
   },
   "outputs": [],
   "source": [
    "from sklearn.model_selection import train_test_split\n",
    "X_train, X_test, y_train, y_test = train_test_split(X, y, test_size=0.3, random_state=42)"
   ]
  },
  {
   "cell_type": "code",
   "execution_count": null,
   "metadata": {
    "collapsed": true
   },
   "outputs": [],
   "source": [
    "#DO I NEED TO MAKE A TODENSE() FUNCTION CALL HERE "
   ]
  },
  {
   "cell_type": "code",
   "execution_count": null,
   "metadata": {
    "collapsed": false
   },
   "outputs": [],
   "source": [
    "tvec.fit(X_train)"
   ]
  },
  {
   "cell_type": "code",
   "execution_count": null,
   "metadata": {
    "collapsed": false
   },
   "outputs": [],
   "source": [
    "X_train_features = tvec.transform(X_train).todense()\n",
    "X_test_features  = tvec.transform(X_test).todense()"
   ]
  },
  {
   "cell_type": "code",
   "execution_count": null,
   "metadata": {
    "collapsed": true
   },
   "outputs": [],
   "source": [
    "#CREATING A CROSS VALIDATION TO RUN WITH A DECISION TREE AND BAGGCLASSIFIER"
   ]
  },
  {
   "cell_type": "code",
   "execution_count": null,
   "metadata": {
    "collapsed": false
   },
   "outputs": [],
   "source": [
    "from sklearn.cross_validation import cross_val_score, StratifiedKFold\n",
    "from sklearn.tree import DecisionTreeClassifier\n",
    "from sklearn.ensemble import RandomForestClassifier, BaggingClassifier\n",
    "\n",
    "cv = StratifiedKFold(y_train, n_folds=5, shuffle=True, random_state=41)"
   ]
  },
  {
   "cell_type": "code",
   "execution_count": null,
   "metadata": {
    "collapsed": false
   },
   "outputs": [],
   "source": [
    "dt = DecisionTreeClassifier(class_weight='balanced')\n",
    "s = cross_val_score(dt, X_train_features, y_train, cv=cv, n_jobs=-1)\n",
    "print \"{} Score:\\t{:0.3} ± {:0.3}\".format(\"Decision Tree\", s.mean().round(3), s.std().round(3))"
   ]
  },
  {
   "cell_type": "code",
   "execution_count": null,
   "metadata": {
    "collapsed": false
   },
   "outputs": [],
   "source": [
    "from sklearn.ensemble import BaggingClassifier \n",
    "rf = RandomForestClassifier(class_weight='balanced', n_jobs=-1)\n",
    "\n",
    "for n_est in [10,20,30,40,60,80]:\n",
    "    bagg = BaggingClassifier( base_estimator=rf, n_estimators=n_est, bootstrap_features=True)\n",
    "    \n",
    "    print 'number of estimators: ',n_est, '5x CV score: ', cross_val_score(bagg,X_train_features,\n",
    "                                                                           y_train, cv=cv).mean()"
   ]
  },
  {
   "cell_type": "code",
   "execution_count": null,
   "metadata": {
    "collapsed": true
   },
   "outputs": [],
   "source": [
    "#FROM HERE I WILL CHOOOSE THE BEST NUMBER OF ESTIMATORS TO RUN HERE.  MAYBE LOOK AT \n",
    "#GRIDSEARCHING "
   ]
  },
  {
   "cell_type": "code",
   "execution_count": null,
   "metadata": {
    "collapsed": false
   },
   "outputs": [],
   "source": [
    "bagg = BaggingClassifier(base_estimator=rf, n_estimators=80, bootstrap_features=True)"
   ]
  },
  {
   "cell_type": "code",
   "execution_count": null,
   "metadata": {
    "collapsed": false
   },
   "outputs": [],
   "source": [
    "bagg.fit(X_train_features,y_train)"
   ]
  },
  {
   "cell_type": "code",
   "execution_count": null,
   "metadata": {
    "collapsed": false
   },
   "outputs": [],
   "source": [
    "Ypred = bagg.predict(X_test_features)"
   ]
  },
  {
   "cell_type": "code",
   "execution_count": null,
   "metadata": {
    "collapsed": false
   },
   "outputs": [],
   "source": [
    "Ypred"
   ]
  },
  {
   "cell_type": "code",
   "execution_count": null,
   "metadata": {
    "collapsed": true
   },
   "outputs": [],
   "source": [
    "from sklearn.metrics import confusion_matrix\n",
    "from sklearn.metrics import classification_report"
   ]
  },
  {
   "cell_type": "code",
   "execution_count": null,
   "metadata": {
    "collapsed": false
   },
   "outputs": [],
   "source": [
    "print confusion_matrix(y_test, Ypred)"
   ]
  },
  {
   "cell_type": "code",
   "execution_count": null,
   "metadata": {
    "collapsed": false
   },
   "outputs": [],
   "source": [
    "print classification_report(y_test, Ypred)"
   ]
  },
  {
   "cell_type": "code",
   "execution_count": null,
   "metadata": {
    "collapsed": true
   },
   "outputs": [],
   "source": [
    "GOING TO USE GRIDSEARCH HERE.  IT SEEMS THE LOGISTIC REGRESSION HAS WORKED BEST SO GOING TO TUNE THE MODEL WITH A \n",
    "GRID SEARCH OVER SEVERAL LOGIST REGRESSION PARAMETERS. \n",
    "\n",
    "from sklearn.grid_search import GridSearchCV\n",
    "\n",
    "logreg_parameters = {\n",
    "    'penalty':['l1','l2'],\n",
    "    'C':np.logspace(-5,1,50),\n",
    "    'solver':['liblinear']\n",
    "}\n",
    "\n",
    "log_gs = GridSearchCV(LogisticRegression(), logreg_parameters, cv=cv, verbose=1)\n",
    "\n",
    "\n",
    "print('GRID SEARCH BEST SCORE: %.4f' % logs_gs.best_score_)\n",
    "print('GRID SEARCH BEST PARAMER FOR LOGRED: ')\n",
    "print log_gs.best_params_"
   ]
  },
  {
   "cell_type": "code",
   "execution_count": null,
   "metadata": {
    "collapsed": true
   },
   "outputs": [],
   "source": [
    "log_gs.fit(X_train_features, y_train)\n",
    "Y_pred_log = log_gs.predict(X_test_features)"
   ]
  },
  {
   "cell_type": "code",
   "execution_count": null,
   "metadata": {
    "collapsed": true
   },
   "outputs": [],
   "source": [
    "print confusion_matrix(y_test, Y_pred_log)"
   ]
  },
  {
   "cell_type": "code",
   "execution_count": null,
   "metadata": {
    "collapsed": true
   },
   "outputs": [],
   "source": [
    "print classification_report(y_test, Y_pred_log)"
   ]
  },
  {
   "cell_type": "code",
   "execution_count": null,
   "metadata": {
    "collapsed": true
   },
   "outputs": [],
   "source": []
  },
  {
   "cell_type": "code",
   "execution_count": null,
   "metadata": {
    "collapsed": true
   },
   "outputs": [],
   "source": []
  },
  {
   "cell_type": "code",
   "execution_count": null,
   "metadata": {
    "collapsed": false
   },
   "outputs": [],
   "source": [
    "# BEGINNING NEW SCRAPE OF IMDB WEBSITE IN ORDER TO GET MORE DATA TO TEST THE MODEL\n",
    "\n",
    "#BRINGING IN DATA FOR MOVIES WITH GOOD RATINGS \n",
    "#http://www.imdb.com/search/title?year=2016,2016&title_type=feature&sort=user_rating,desc\n",
    "\n",
    "\n",
    "#BRINGING IN DATA FOR MOVIES WITH BAD RATINGS \n",
    "#http://www.imdb.com/search/title?year=2016,2016&title_type=feature&sort=user_rating,asc\n",
    "\n",
    "\n",
    "#IMPORTING BEAUTIFUL SOUP AND REQUESTS TO READ IN OUR DATA\n",
    "from bs4 import BeautifulSoup\n",
    "import requests\n",
    "\n",
    "\n",
    "good_2016_movies_url = 'http://www.imdb.com/search/title?year=2016,2016&title_type=feature&sort=user_rating,desc'\n",
    "good_2016_movies_html = requests.get(good_2016_movies_url)\n",
    "\n",
    "# so now we have the html\n",
    "# but we need a nice way to search the html\n",
    "\n",
    "#good_2016_movies_html.text\n",
    "\n",
    "good_2016_movies_soup = BeautifulSoup(good_2016_movies_html.text ,'html.parser')\n",
    "\n",
    "good_2016_movies_div = good_2016_movies_soup.findAll(\"div\", { \"class\" : \"ribbonize\" })\n",
    "\n",
    "#EXPECTING 50 RESULTS HERE \n",
    "len(good_2016_movies_div)\n",
    "\n",
    "good_2016_movies_div[0]\n",
    "\n",
    "#CREATING DATA FRAME FOR TCONSTS FOR EACH MOVIE\n",
    "type(good_2016_movies_div[0])\n",
    "\n",
    "#TURNING OUR NEW DATA FROM BS4.ELEMENT.TAG OBJECT INTO SOMETHING I CAN USE.  \n",
    "\n",
    "good_2016_movies_div[0]['data-tconst']\n",
    "\n",
    "good_2016_movies_tconst = []\n",
    "for div_elm in good_2016_movies_div:\n",
    "    good_2016_movies_tconst.append(div_elm['data-tconst'])\n",
    "\n",
    "#RUNNING THE SAME PROCESS FOR A LIST OF BAD MOVIES \n",
    "bad_movies_2016_url = 'http://www.imdb.com/search/title?year=2016,2016&title_type=feature&sort=user_rating,asc'\n",
    "bad_movies_2016_html = requests.get(bad_movies_2016_url)\n",
    "\n",
    "bad_movies_2016_soup = BeautifulSoup(bad_movies_2016_html.text, 'html.parser')\n",
    "\n",
    "bad_movies_2016_div = bad_movies_2016_soup.findAll(\"div\", {\"class\": \"ribbonize\"})\n",
    "\n",
    "bad_2016_movies_tconst = []\n",
    "for div_elm in bad_movies_2016_div:\n",
    "    bad_2016_movies_tconst.append(div_elm['data-tconst'])\n",
    "\n",
    "all_2016_tconst = good_2016_movies_tconst[:5] + bad_2016_movies_tconst\n",
    "\n",
    "reviews_2016_as_text = []\n",
    "review_2016_rating_as_int = []\n",
    "\n",
    "for tconst in all_2016_tconst:\n",
    "    try:\n",
    "        reviews_for_movie_i = imdb.get_title_reviews(tconst, max_results=2)\n",
    "        if reviews_for_movie_i is None:\n",
    "            continue\n",
    "        for movie in reviews_for_movie_i:\n",
    "            reviews_2016_as_text.append(movie.text)\n",
    "            review_2016_rating_as_int.append(movie.rating)\n",
    "    except:\n",
    "        print 'werent able to get movie', tconst\n",
    "\n",
    "print len(reviews_2016_as_text)\n",
    "print len(review_2016_rating_as_int)\n",
    "\n",
    "\n",
    "df_2016_movies = pd.DataFrame({'reviews': reviews_2016_as_text , 'ratings': review_2016_rating_as_int})\n",
    "\n",
    "df_2016_movies = df_2016_movies.dropna()"
   ]
  },
  {
   "cell_type": "code",
   "execution_count": null,
   "metadata": {
    "collapsed": true
   },
   "outputs": [],
   "source": [
    "#SO VECTORIZE FIT ETC. X1 AND SUBSTITUTE FOR BAGG.PREDICT(X_TEST)"
   ]
  },
  {
   "cell_type": "code",
   "execution_count": null,
   "metadata": {
    "collapsed": true
   },
   "outputs": [],
   "source": [
    "X1 = df_2016_movies['reviews']"
   ]
  },
  {
   "cell_type": "code",
   "execution_count": null,
   "metadata": {
    "collapsed": true
   },
   "outputs": [],
   "source": [
    "X1_features = tvec.transform(X1).todense()"
   ]
  },
  {
   "cell_type": "code",
   "execution_count": null,
   "metadata": {
    "collapsed": true
   },
   "outputs": [],
   "source": [
    "y1= df_2016_movies['reviews']"
   ]
  },
  {
   "cell_type": "code",
   "execution_count": null,
   "metadata": {
    "collapsed": true
   },
   "outputs": [],
   "source": [
    "y1 = LabelEncoder.fit()"
   ]
  },
  {
   "cell_type": "code",
   "execution_count": null,
   "metadata": {
    "collapsed": true
   },
   "outputs": [],
   "source": [
    "Y_pred_test = log_gs.predict(X1_features)"
   ]
  },
  {
   "cell_type": "code",
   "execution_count": null,
   "metadata": {
    "collapsed": true
   },
   "outputs": [],
   "source": [
    "#PRINTING MATRIX TO SEE HOW WELL MY MODEL HAS DONE."
   ]
  },
  {
   "cell_type": "code",
   "execution_count": null,
   "metadata": {
    "collapsed": true
   },
   "outputs": [],
   "source": [
    "print confustion_matrix(y, Y_pred_test)"
   ]
  },
  {
   "cell_type": "code",
   "execution_count": null,
   "metadata": {
    "collapsed": true
   },
   "outputs": [],
   "source": [
    "print classification_report(y, Y_pred_test)"
   ]
  }
 ],
 "metadata": {
  "anaconda-cloud": {},
  "kernelspec": {
   "display_name": "Python [Root]",
   "language": "python",
   "name": "Python [Root]"
  },
  "language_info": {
   "codemirror_mode": {
    "name": "ipython",
    "version": 2
   },
   "file_extension": ".py",
   "mimetype": "text/x-python",
   "name": "python",
   "nbconvert_exporter": "python",
   "pygments_lexer": "ipython2",
   "version": "2.7.12"
  }
 },
 "nbformat": 4,
 "nbformat_minor": 1
}
